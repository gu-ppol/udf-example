{
 "cells": [
  {
   "cell_type": "code",
   "execution_count": 4,
   "metadata": {},
   "outputs": [
    {
     "name": "stdout",
     "output_type": "stream",
     "text": [
      "Collecting spark\n",
      "  Downloading spark-0.2.1.tar.gz (41 kB)\n",
      "\u001b[2K     \u001b[90m━━━━━━━━━━━━━━━━━━━━━━━━━━━━━━━━━━━━━━━━\u001b[0m \u001b[32m41.0/41.0 kB\u001b[0m \u001b[31m1.9 MB/s\u001b[0m eta \u001b[36m0:00:00\u001b[0m\n",
      "\u001b[?25h  Preparing metadata (setup.py) ... \u001b[?25ldone\n",
      "\u001b[?25hBuilding wheels for collected packages: spark\n",
      "  Building wheel for spark (setup.py) ... \u001b[?25ldone\n",
      "\u001b[?25h  Created wheel for spark: filename=spark-0.2.1-py3-none-any.whl size=58748 sha256=3f18fd946e5ffbb31d634830c81309b5d24f69cca08593cf20d53d15308e6342\n",
      "  Stored in directory: /Users/dheeraj/Library/Caches/pip/wheels/63/88/77/b4131110ea4094540f7b47c6d62a649807d7e94800da5eab0b\n",
      "Successfully built spark\n",
      "\u001b[33mDEPRECATION: feast 0.12.1 has a non-standard dependency specifier PyYAML>=5.4.*. pip 24.1 will enforce this behaviour change. A possible replacement is to upgrade to a newer version of feast or contact the author to suggest that they release a version with a conforming dependency specifiers. Discussion can be found at https://github.com/pypa/pip/issues/12063\u001b[0m\u001b[33m\n",
      "\u001b[0m\u001b[33mDEPRECATION: feast 0.12.1 has a non-standard dependency specifier tenacity>=7.*. pip 24.1 will enforce this behaviour change. A possible replacement is to upgrade to a newer version of feast or contact the author to suggest that they release a version with a conforming dependency specifiers. Discussion can be found at https://github.com/pypa/pip/issues/12063\u001b[0m\u001b[33m\n",
      "\u001b[0mInstalling collected packages: spark\n",
      "Successfully installed spark-0.2.1\n"
     ]
    }
   ],
   "source": [
    "!pip install spark"
   ]
  },
  {
   "cell_type": "code",
   "execution_count": 10,
   "metadata": {},
   "outputs": [],
   "source": [
    "from pyspark.sql.types import *\n",
    "from pyspark.sql.functions import col, count, rand, collect_list, explode, struct, count, lit\n",
    "from pyspark.sql.functions import pandas_udf, PandasUDFType\n",
    "from pyspark.sql.functions import udf"
   ]
  },
  {
   "cell_type": "code",
   "execution_count": 6,
   "metadata": {},
   "outputs": [],
   "source": [
    "from pyspark.sql import SparkSession\n",
    "import pyspark.sql.functions as f\n",
    "from pyspark.sql.types import *\n",
    "import pandas as pd\n",
    "from time import perf_counter"
   ]
  },
  {
   "cell_type": "code",
   "execution_count": 7,
   "metadata": {},
   "outputs": [
    {
     "name": "stderr",
     "output_type": "stream",
     "text": [
      "24/02/20 18:10:27 WARN Utils: Your hostname, Dheerajs-MacBook-Air-1392.local resolves to a loopback address: 127.0.0.1; using 10.0.0.207 instead (on interface en0)\n",
      "24/02/20 18:10:27 WARN Utils: Set SPARK_LOCAL_IP if you need to bind to another address\n",
      "Setting default log level to \"WARN\".\n",
      "To adjust logging level use sc.setLogLevel(newLevel). For SparkR, use setLogLevel(newLevel).\n",
      "24/02/20 18:10:28 WARN NativeCodeLoader: Unable to load native-hadoop library for your platform... using builtin-java classes where applicable\n"
     ]
    }
   ],
   "source": [
    "\n",
    "spark = SparkSession.builder.appName('learn').getOrCreate()"
   ]
  },
  {
   "cell_type": "code",
   "execution_count": 8,
   "metadata": {},
   "outputs": [
    {
     "name": "stderr",
     "output_type": "stream",
     "text": [
      "                                                                                \r"
     ]
    },
    {
     "name": "stdout",
     "output_type": "stream",
     "text": [
      "+---+--------------------+\n",
      "| id|                   v|\n",
      "+---+--------------------+\n",
      "|  0|  0.7019090957422275|\n",
      "|  0|  0.9933700390740879|\n",
      "|  0| 0.09645608750983481|\n",
      "|  0|  0.9110235501877338|\n",
      "|  0|  0.8890663311497601|\n",
      "|  0| 0.05317098055069769|\n",
      "|  0|0.042303986602792776|\n",
      "|  0|  0.6647547444772897|\n",
      "|  0| 0.32842395299411886|\n",
      "|  0|0.018639868702528317|\n",
      "|  0|  0.6313347143133267|\n",
      "|  0|  0.0831228330396655|\n",
      "|  0|  0.4276704236404433|\n",
      "|  0| 0.25428379813778945|\n",
      "|  0|  0.8362118971678169|\n",
      "|  0|  0.8267217422966622|\n",
      "|  0|  0.7363125165408233|\n",
      "|  0| 0.09248071191481433|\n",
      "|  0|  0.7114607813627912|\n",
      "|  0| 0.43602389756778626|\n",
      "+---+--------------------+\n",
      "only showing top 20 rows\n",
      "\n"
     ]
    }
   ],
   "source": [
    "df = spark.range(0, 10 * 1000 * 1000).withColumn('id', (col('id') / 10000).cast('integer')).withColumn('v', rand())\n",
    "df.cache()\n",
    "df.count()\n",
    "\n",
    "df.show()"
   ]
  },
  {
   "cell_type": "code",
   "execution_count": 11,
   "metadata": {},
   "outputs": [
    {
     "name": "stderr",
     "output_type": "stream",
     "text": [
      "                                                                                \r"
     ]
    },
    {
     "name": "stdout",
     "output_type": "stream",
     "text": [
      "+--------+\n",
      "|count(v)|\n",
      "+--------+\n",
      "|10000000|\n",
      "+--------+\n",
      "\n"
     ]
    },
    {
     "name": "stderr",
     "output_type": "stream",
     "text": [
      "                                                                                \r"
     ]
    },
    {
     "name": "stdout",
     "output_type": "stream",
     "text": [
      "+--------+\n",
      "|count(v)|\n",
      "+--------+\n",
      "|10000000|\n",
      "+--------+\n",
      "\n"
     ]
    },
    {
     "name": "stderr",
     "output_type": "stream",
     "text": [
      "                                                                                \r"
     ]
    },
    {
     "name": "stdout",
     "output_type": "stream",
     "text": [
      "+--------+\n",
      "|count(v)|\n",
      "+--------+\n",
      "|10000000|\n",
      "+--------+\n",
      "\n"
     ]
    },
    {
     "name": "stderr",
     "output_type": "stream",
     "text": [
      "                                                                                \r"
     ]
    },
    {
     "name": "stdout",
     "output_type": "stream",
     "text": [
      "+--------+\n",
      "|count(v)|\n",
      "+--------+\n",
      "|10000000|\n",
      "+--------+\n",
      "\n"
     ]
    },
    {
     "name": "stderr",
     "output_type": "stream",
     "text": [
      "                                                                                \r"
     ]
    },
    {
     "name": "stdout",
     "output_type": "stream",
     "text": [
      "+--------+\n",
      "|count(v)|\n",
      "+--------+\n",
      "|10000000|\n",
      "+--------+\n",
      "\n"
     ]
    },
    {
     "name": "stderr",
     "output_type": "stream",
     "text": [
      "                                                                                \r"
     ]
    },
    {
     "name": "stdout",
     "output_type": "stream",
     "text": [
      "+--------+\n",
      "|count(v)|\n",
      "+--------+\n",
      "|10000000|\n",
      "+--------+\n",
      "\n"
     ]
    },
    {
     "name": "stderr",
     "output_type": "stream",
     "text": [
      "                                                                                \r"
     ]
    },
    {
     "name": "stdout",
     "output_type": "stream",
     "text": [
      "+--------+\n",
      "|count(v)|\n",
      "+--------+\n",
      "|10000000|\n",
      "+--------+\n",
      "\n"
     ]
    },
    {
     "name": "stderr",
     "output_type": "stream",
     "text": [
      "[Stage 26:>                                                         (0 + 8) / 8]\r"
     ]
    },
    {
     "name": "stdout",
     "output_type": "stream",
     "text": [
      "+--------+\n",
      "|count(v)|\n",
      "+--------+\n",
      "|10000000|\n",
      "+--------+\n",
      "\n",
      "3.76 s ± 207 ms per loop (mean ± std. dev. of 7 runs, 1 loop each)\n"
     ]
    },
    {
     "name": "stderr",
     "output_type": "stream",
     "text": [
      "                                                                                \r"
     ]
    }
   ],
   "source": [
    "@udf('double')\n",
    "def plus_one(v):\n",
    "    return v + 1\n",
    "\n",
    "%timeit df.withColumn('v', plus_one(df.v)).agg(count(col('v'))).show()"
   ]
  },
  {
   "cell_type": "code",
   "execution_count": 12,
   "metadata": {},
   "outputs": [
    {
     "name": "stderr",
     "output_type": "stream",
     "text": [
      "                                                                                \r"
     ]
    },
    {
     "name": "stdout",
     "output_type": "stream",
     "text": [
      "+--------+\n",
      "|count(v)|\n",
      "+--------+\n",
      "|10000000|\n",
      "+--------+\n",
      "\n"
     ]
    },
    {
     "name": "stderr",
     "output_type": "stream",
     "text": [
      "                                                                                \r"
     ]
    },
    {
     "name": "stdout",
     "output_type": "stream",
     "text": [
      "+--------+\n",
      "|count(v)|\n",
      "+--------+\n",
      "|10000000|\n",
      "+--------+\n",
      "\n"
     ]
    },
    {
     "name": "stderr",
     "output_type": "stream",
     "text": [
      "                                                                                \r"
     ]
    },
    {
     "name": "stdout",
     "output_type": "stream",
     "text": [
      "+--------+\n",
      "|count(v)|\n",
      "+--------+\n",
      "|10000000|\n",
      "+--------+\n",
      "\n"
     ]
    },
    {
     "name": "stderr",
     "output_type": "stream",
     "text": [
      "                                                                                \r"
     ]
    },
    {
     "name": "stdout",
     "output_type": "stream",
     "text": [
      "+--------+\n",
      "|count(v)|\n",
      "+--------+\n",
      "|10000000|\n",
      "+--------+\n",
      "\n"
     ]
    },
    {
     "name": "stderr",
     "output_type": "stream",
     "text": [
      "                                                                                \r"
     ]
    },
    {
     "name": "stdout",
     "output_type": "stream",
     "text": [
      "+--------+\n",
      "|count(v)|\n",
      "+--------+\n",
      "|10000000|\n",
      "+--------+\n",
      "\n"
     ]
    },
    {
     "name": "stderr",
     "output_type": "stream",
     "text": [
      "                                                                                \r"
     ]
    },
    {
     "name": "stdout",
     "output_type": "stream",
     "text": [
      "+--------+\n",
      "|count(v)|\n",
      "+--------+\n",
      "|10000000|\n",
      "+--------+\n",
      "\n"
     ]
    },
    {
     "name": "stderr",
     "output_type": "stream",
     "text": [
      "                                                                                \r"
     ]
    },
    {
     "name": "stdout",
     "output_type": "stream",
     "text": [
      "+--------+\n",
      "|count(v)|\n",
      "+--------+\n",
      "|10000000|\n",
      "+--------+\n",
      "\n"
     ]
    },
    {
     "name": "stderr",
     "output_type": "stream",
     "text": [
      "[Stage 50:>                                                         (0 + 8) / 8]\r"
     ]
    },
    {
     "name": "stdout",
     "output_type": "stream",
     "text": [
      "+--------+\n",
      "|count(v)|\n",
      "+--------+\n",
      "|10000000|\n",
      "+--------+\n",
      "\n",
      "1.54 s ± 148 ms per loop (mean ± std. dev. of 7 runs, 1 loop each)\n"
     ]
    },
    {
     "name": "stderr",
     "output_type": "stream",
     "text": [
      "                                                                                \r"
     ]
    }
   ],
   "source": [
    "import pandas as pd\n",
    "\n",
    "@pandas_udf(\"double\")\n",
    "def pandas_plus_one(v: pd.Series) -> pd.Series:\n",
    "    return v + 1\n",
    "\n",
    "%timeit df.withColumn('v', pandas_plus_one(df.v)).agg(count(col('v'))).show()"
   ]
  },
  {
   "cell_type": "code",
   "execution_count": 13,
   "metadata": {},
   "outputs": [
    {
     "name": "stderr",
     "output_type": "stream",
     "text": [
      "                                                                                \r"
     ]
    },
    {
     "name": "stdout",
     "output_type": "stream",
     "text": [
      "+-----------------------------+\n",
      "|count(cumulative_probability)|\n",
      "+-----------------------------+\n",
      "|                     10000000|\n",
      "+-----------------------------+\n",
      "\n"
     ]
    },
    {
     "name": "stderr",
     "output_type": "stream",
     "text": [
      "                                                                                \r"
     ]
    },
    {
     "name": "stdout",
     "output_type": "stream",
     "text": [
      "+-----------------------------+\n",
      "|count(cumulative_probability)|\n",
      "+-----------------------------+\n",
      "|                     10000000|\n",
      "+-----------------------------+\n",
      "\n"
     ]
    },
    {
     "name": "stderr",
     "output_type": "stream",
     "text": [
      "                                                                                \r"
     ]
    },
    {
     "name": "stdout",
     "output_type": "stream",
     "text": [
      "+-----------------------------+\n",
      "|count(cumulative_probability)|\n",
      "+-----------------------------+\n",
      "|                     10000000|\n",
      "+-----------------------------+\n",
      "\n"
     ]
    },
    {
     "name": "stderr",
     "output_type": "stream",
     "text": [
      "                                                                                \r"
     ]
    },
    {
     "name": "stdout",
     "output_type": "stream",
     "text": [
      "+-----------------------------+\n",
      "|count(cumulative_probability)|\n",
      "+-----------------------------+\n",
      "|                     10000000|\n",
      "+-----------------------------+\n",
      "\n"
     ]
    },
    {
     "name": "stderr",
     "output_type": "stream",
     "text": [
      "                                                                                \r"
     ]
    },
    {
     "name": "stdout",
     "output_type": "stream",
     "text": [
      "+-----------------------------+\n",
      "|count(cumulative_probability)|\n",
      "+-----------------------------+\n",
      "|                     10000000|\n",
      "+-----------------------------+\n",
      "\n"
     ]
    },
    {
     "name": "stderr",
     "output_type": "stream",
     "text": [
      "                                                                                \r"
     ]
    },
    {
     "name": "stdout",
     "output_type": "stream",
     "text": [
      "+-----------------------------+\n",
      "|count(cumulative_probability)|\n",
      "+-----------------------------+\n",
      "|                     10000000|\n",
      "+-----------------------------+\n",
      "\n"
     ]
    },
    {
     "name": "stderr",
     "output_type": "stream",
     "text": [
      "                                                                                \r"
     ]
    },
    {
     "name": "stdout",
     "output_type": "stream",
     "text": [
      "+-----------------------------+\n",
      "|count(cumulative_probability)|\n",
      "+-----------------------------+\n",
      "|                     10000000|\n",
      "+-----------------------------+\n",
      "\n"
     ]
    },
    {
     "name": "stderr",
     "output_type": "stream",
     "text": [
      "[Stage 74:==================================================>       (7 + 1) / 8]\r"
     ]
    },
    {
     "name": "stdout",
     "output_type": "stream",
     "text": [
      "+-----------------------------+\n",
      "|count(cumulative_probability)|\n",
      "+-----------------------------+\n",
      "|                     10000000|\n",
      "+-----------------------------+\n",
      "\n",
      "1min 54s ± 13 s per loop (mean ± std. dev. of 7 runs, 1 loop each)\n"
     ]
    },
    {
     "name": "stderr",
     "output_type": "stream",
     "text": [
      "                                                                                \r"
     ]
    }
   ],
   "source": [
    "from scipy import stats\n",
    "\n",
    "@udf('double')\n",
    "def cdf(v):\n",
    "    return float(stats.norm.cdf(v))\n",
    "\n",
    "%timeit df.withColumn('cumulative_probability', cdf(df.v)).agg(count(col('cumulative_probability'))).show()"
   ]
  },
  {
   "cell_type": "code",
   "execution_count": 14,
   "metadata": {},
   "outputs": [
    {
     "name": "stderr",
     "output_type": "stream",
     "text": [
      "                                                                                \r"
     ]
    },
    {
     "name": "stdout",
     "output_type": "stream",
     "text": [
      "+-----------------------------+\n",
      "|count(cumulative_probability)|\n",
      "+-----------------------------+\n",
      "|                     10000000|\n",
      "+-----------------------------+\n",
      "\n"
     ]
    },
    {
     "name": "stderr",
     "output_type": "stream",
     "text": [
      "                                                                                \r"
     ]
    },
    {
     "name": "stdout",
     "output_type": "stream",
     "text": [
      "+-----------------------------+\n",
      "|count(cumulative_probability)|\n",
      "+-----------------------------+\n",
      "|                     10000000|\n",
      "+-----------------------------+\n",
      "\n"
     ]
    },
    {
     "name": "stderr",
     "output_type": "stream",
     "text": [
      "                                                                                \r"
     ]
    },
    {
     "name": "stdout",
     "output_type": "stream",
     "text": [
      "+-----------------------------+\n",
      "|count(cumulative_probability)|\n",
      "+-----------------------------+\n",
      "|                     10000000|\n",
      "+-----------------------------+\n",
      "\n"
     ]
    },
    {
     "name": "stderr",
     "output_type": "stream",
     "text": [
      "                                                                                \r"
     ]
    },
    {
     "name": "stdout",
     "output_type": "stream",
     "text": [
      "+-----------------------------+\n",
      "|count(cumulative_probability)|\n",
      "+-----------------------------+\n",
      "|                     10000000|\n",
      "+-----------------------------+\n",
      "\n"
     ]
    },
    {
     "name": "stderr",
     "output_type": "stream",
     "text": [
      "                                                                                \r"
     ]
    },
    {
     "name": "stdout",
     "output_type": "stream",
     "text": [
      "+-----------------------------+\n",
      "|count(cumulative_probability)|\n",
      "+-----------------------------+\n",
      "|                     10000000|\n",
      "+-----------------------------+\n",
      "\n"
     ]
    },
    {
     "name": "stderr",
     "output_type": "stream",
     "text": [
      "                                                                                \r"
     ]
    },
    {
     "name": "stdout",
     "output_type": "stream",
     "text": [
      "+-----------------------------+\n",
      "|count(cumulative_probability)|\n",
      "+-----------------------------+\n",
      "|                     10000000|\n",
      "+-----------------------------+\n",
      "\n"
     ]
    },
    {
     "name": "stderr",
     "output_type": "stream",
     "text": [
      "                                                                                \r"
     ]
    },
    {
     "name": "stdout",
     "output_type": "stream",
     "text": [
      "+-----------------------------+\n",
      "|count(cumulative_probability)|\n",
      "+-----------------------------+\n",
      "|                     10000000|\n",
      "+-----------------------------+\n",
      "\n"
     ]
    },
    {
     "name": "stderr",
     "output_type": "stream",
     "text": [
      "[Stage 98:>                                                         (0 + 8) / 8]\r"
     ]
    },
    {
     "name": "stdout",
     "output_type": "stream",
     "text": [
      "+-----------------------------+\n",
      "|count(cumulative_probability)|\n",
      "+-----------------------------+\n",
      "|                     10000000|\n",
      "+-----------------------------+\n",
      "\n",
      "2.4 s ± 604 ms per loop (mean ± std. dev. of 7 runs, 1 loop each)\n"
     ]
    },
    {
     "name": "stderr",
     "output_type": "stream",
     "text": [
      "                                                                                \r"
     ]
    }
   ],
   "source": [
    "@pandas_udf('double')\n",
    "def pandas_cdf(v: pd.Series) -> pd.Series:\n",
    "    return pd.Series(stats.norm.cdf(v))\n",
    "\n",
    "%timeit df.withColumn('cumulative_probability', pandas_cdf(df.v)).agg(count(col('cumulative_probability'))).show()"
   ]
  },
  {
   "cell_type": "code",
   "execution_count": 15,
   "metadata": {},
   "outputs": [
    {
     "name": "stderr",
     "output_type": "stream",
     "text": [
      "24/02/20 18:29:00 WARN TaskMemoryManager: Failed to allocate a page (2097136 bytes), try again.\n",
      "24/02/20 18:29:00 WARN TaskMemoryManager: Failed to allocate a page (2097136 bytes), try again.\n",
      "24/02/20 18:29:00 WARN TaskMemoryManager: Failed to allocate a page (2097136 bytes), try again.\n",
      "24/02/20 18:29:09 WARN TaskMemoryManager: Failed to allocate a page (2097136 bytes), try again.\n",
      "24/02/20 18:29:09 WARN TaskMemoryManager: Failed to allocate a page (2097136 bytes), try again.\n",
      "24/02/20 18:29:09 WARN TaskMemoryManager: Failed to allocate a page (2097136 bytes), try again.\n",
      "24/02/20 18:29:09 WARN TaskMemoryManager: Failed to allocate a page (2097136 bytes), try again.\n",
      "24/02/20 18:29:09 WARN TaskMemoryManager: Failed to allocate a page (2097136 bytes), try again.\n",
      "24/02/20 18:29:09 WARN TaskMemoryManager: Failed to allocate a page (2097136 bytes), try again.\n",
      "24/02/20 18:29:14 WARN TaskMemoryManager: Failed to allocate a page (2097136 bytes), try again.\n",
      "24/02/20 18:29:15 WARN TaskMemoryManager: Failed to allocate a page (2097136 bytes), try again.\n",
      "24/02/20 18:29:15 WARN TaskMemoryManager: Failed to allocate a page (2097136 bytes), try again.\n",
      "24/02/20 18:29:15 WARN TaskMemoryManager: Failed to allocate a page (2097136 bytes), try again.\n",
      "24/02/20 18:29:14 WARN TaskMemoryManager: Failed to allocate a page (2097136 bytes), try again.\n",
      "24/02/20 18:29:16 WARN TaskMemoryManager: Failed to allocate a page (2097136 bytes), try again.\n",
      "24/02/20 18:29:19 WARN TaskMemoryManager: Failed to allocate a page (2097136 bytes), try again.\n",
      "24/02/20 18:29:19 WARN TaskMemoryManager: Failed to allocate a page (2097136 bytes), try again.\n",
      "24/02/20 18:29:19 WARN TaskMemoryManager: Failed to allocate a page (2097136 bytes), try again.\n",
      "24/02/20 18:29:22 WARN TaskMemoryManager: Failed to allocate a page (2097136 bytes), try again.\n",
      "24/02/20 18:29:22 WARN TaskMemoryManager: Failed to allocate a page (2097136 bytes), try again.\n",
      "24/02/20 18:29:22 WARN TaskMemoryManager: Failed to allocate a page (2097136 bytes), try again.\n",
      "24/02/20 18:29:19 WARN TaskMemoryManager: Failed to allocate a page (2097136 bytes), try again.\n",
      "24/02/20 18:29:30 WARN TaskMemoryManager: Failed to allocate a page (2097136 bytes), try again.\n",
      "24/02/20 18:29:30 WARN TaskMemoryManager: Failed to allocate a page (2097136 bytes), try again.\n",
      "24/02/20 18:29:30 WARN TaskMemoryManager: Failed to allocate a page (2097136 bytes), try again.\n",
      "24/02/20 18:29:30 WARN TaskMemoryManager: Failed to allocate a page (2097136 bytes), try again.\n",
      "24/02/20 18:29:30 WARN TaskMemoryManager: Failed to allocate a page (2097136 bytes), try again.\n",
      "24/02/20 18:29:30 WARN TaskMemoryManager: Failed to allocate a page (2097136 bytes), try again.\n",
      "24/02/20 18:29:31 WARN TaskMemoryManager: Failed to allocate a page (2097136 bytes), try again.\n",
      "24/02/20 18:29:39 WARN TaskMemoryManager: Failed to allocate a page (2097136 bytes), try again.\n",
      "24/02/20 18:29:39 WARN TaskMemoryManager: Failed to allocate a page (2097136 bytes), try again.\n",
      "24/02/20 18:29:39 WARN TaskMemoryManager: Failed to allocate a page (2097136 bytes), try again.\n",
      "24/02/20 18:29:39 WARN TaskMemoryManager: Failed to allocate a page (2097136 bytes), try again.\n",
      "24/02/20 18:29:39 WARN TaskMemoryManager: Failed to allocate a page (2097136 bytes), try again.\n",
      "24/02/20 18:29:45 WARN TaskMemoryManager: Failed to allocate a page (2097136 bytes), try again.\n",
      "24/02/20 18:29:45 WARN TaskMemoryManager: Failed to allocate a page (2097136 bytes), try again.\n",
      "24/02/20 18:29:45 WARN TaskMemoryManager: Failed to allocate a page (2097136 bytes), try again.\n",
      "24/02/20 18:29:45 WARN TaskMemoryManager: Failed to allocate a page (2097136 bytes), try again.\n",
      "24/02/20 18:29:45 WARN TaskMemoryManager: Failed to allocate a page (2097136 bytes), try again.\n",
      "24/02/20 18:29:45 WARN TaskMemoryManager: Failed to allocate a page (2097136 bytes), try again.\n",
      "24/02/20 18:29:50 WARN TaskMemoryManager: Failed to allocate a page (2097136 bytes), try again.\n",
      "24/02/20 18:29:50 WARN TaskMemoryManager: Failed to allocate a page (2097136 bytes), try again.\n",
      "24/02/20 18:29:50 WARN TaskMemoryManager: Failed to allocate a page (2097136 bytes), try again.\n",
      "24/02/20 18:29:51 WARN TaskMemoryManager: Failed to allocate a page (2097136 bytes), try again.\n",
      "24/02/20 18:29:50 WARN TaskMemoryManager: Failed to allocate a page (2097136 bytes), try again.\n",
      "24/02/20 18:29:51 WARN TaskMemoryManager: Failed to allocate a page (2097136 bytes), try again.\n",
      "24/02/20 18:29:55 WARN TaskMemoryManager: Failed to allocate a page (2097136 bytes), try again.\n",
      "24/02/20 18:29:58 WARN TaskMemoryManager: Failed to allocate a page (2097136 bytes), try again.\n",
      "24/02/20 18:29:58 WARN TaskMemoryManager: Failed to allocate a page (2097136 bytes), try again.\n",
      "24/02/20 18:29:55 WARN TaskMemoryManager: Failed to allocate a page (2097136 bytes), try again.\n",
      "24/02/20 18:29:58 WARN TaskMemoryManager: Failed to allocate a page (2097136 bytes), try again.\n",
      "24/02/20 18:29:55 WARN TaskMemoryManager: Failed to allocate a page (2097136 bytes), try again.\n",
      "24/02/20 18:29:58 WARN TaskMemoryManager: Failed to allocate a page (2097136 bytes), try again.\n",
      "24/02/20 18:29:58 WARN TaskMemoryManager: Failed to allocate a page (2097136 bytes), try again.\n",
      "24/02/20 18:30:04 WARN TaskMemoryManager: Failed to allocate a page (2097136 bytes), try again.\n",
      "24/02/20 18:30:04 WARN TaskMemoryManager: Failed to allocate a page (2097136 bytes), try again.\n",
      "24/02/20 18:30:04 WARN TaskMemoryManager: Failed to allocate a page (2097136 bytes), try again.\n",
      "24/02/20 18:30:04 WARN TaskMemoryManager: Failed to allocate a page (2097136 bytes), try again.\n",
      "24/02/20 18:30:04 WARN TaskMemoryManager: Failed to allocate a page (2097136 bytes), try again.\n",
      "24/02/20 18:30:04 WARN TaskMemoryManager: Failed to allocate a page (2097136 bytes), try again.\n",
      "24/02/20 18:30:12 WARN TaskMemoryManager: Failed to allocate a page (2097136 bytes), try again.\n",
      "24/02/20 18:30:12 WARN TaskMemoryManager: Failed to allocate a page (2097136 bytes), try again.\n",
      "24/02/20 18:30:12 WARN TaskMemoryManager: Failed to allocate a page (2097136 bytes), try again.\n",
      "24/02/20 18:30:12 WARN TaskMemoryManager: Failed to allocate a page (2097136 bytes), try again.\n",
      "24/02/20 18:30:12 WARN TaskMemoryManager: Failed to allocate a page (2097136 bytes), try again.\n",
      "24/02/20 18:30:06 WARN TaskMemoryManager: Failed to allocate a page (2097136 bytes), try again.\n",
      "24/02/20 18:30:06 WARN TaskMemoryManager: Failed to allocate a page (2097136 bytes), try again.\n",
      "24/02/20 18:30:12 WARN TaskMemoryManager: Failed to allocate a page (2097136 bytes), try again.\n",
      "24/02/20 18:30:19 WARN TaskMemoryManager: Failed to allocate a page (2097136 bytes), try again.\n",
      "24/02/20 18:30:19 WARN TaskMemoryManager: Failed to allocate a page (2097136 bytes), try again.\n",
      "24/02/20 18:30:19 WARN TaskMemoryManager: Failed to allocate a page (2097136 bytes), try again.\n",
      "24/02/20 18:30:19 WARN TaskMemoryManager: Failed to allocate a page (2097136 bytes), try again.\n",
      "24/02/20 18:30:19 WARN TaskMemoryManager: Failed to allocate a page (2097136 bytes), try again.\n",
      "24/02/20 18:30:19 WARN TaskMemoryManager: Failed to allocate a page (2097136 bytes), try again.\n",
      "24/02/20 18:30:19 WARN TaskMemoryManager: Failed to allocate a page (2097136 bytes), try again.\n",
      "24/02/20 18:30:19 WARN TaskMemoryManager: Failed to allocate a page (2097136 bytes), try again.\n",
      "24/02/20 18:30:29 WARN TaskMemoryManager: Failed to allocate a page (2097136 bytes), try again.\n",
      "24/02/20 18:30:29 WARN TaskMemoryManager: Failed to allocate a page (2097136 bytes), try again.\n",
      "24/02/20 18:30:29 WARN TaskMemoryManager: Failed to allocate a page (2097136 bytes), try again.\n",
      "24/02/20 18:30:29 WARN TaskMemoryManager: Failed to allocate a page (2097136 bytes), try again.\n",
      "24/02/20 18:30:29 WARN TaskMemoryManager: Failed to allocate a page (2097136 bytes), try again.\n",
      "24/02/20 18:30:29 WARN TaskMemoryManager: Failed to allocate a page (2097136 bytes), try again.\n",
      "24/02/20 18:30:29 WARN TaskMemoryManager: Failed to allocate a page (2097136 bytes), try again.\n",
      "24/02/20 18:30:29 WARN TaskMemoryManager: Failed to allocate a page (2097136 bytes), try again.\n",
      "24/02/20 18:30:35 WARN TaskMemoryManager: Failed to allocate a page (2097136 bytes), try again.\n",
      "24/02/20 18:30:35 WARN TaskMemoryManager: Failed to allocate a page (2097136 bytes), try again.\n",
      "24/02/20 18:30:35 WARN TaskMemoryManager: Failed to allocate a page (2097136 bytes), try again.\n",
      "24/02/20 18:30:35 WARN TaskMemoryManager: Failed to allocate a page (2097136 bytes), try again.\n",
      "24/02/20 18:30:35 WARN TaskMemoryManager: Failed to allocate a page (2097136 bytes), try again.\n",
      "24/02/20 18:30:35 WARN TaskMemoryManager: Failed to allocate a page (2097136 bytes), try again.\n",
      "24/02/20 18:30:35 WARN TaskMemoryManager: Failed to allocate a page (2097136 bytes), try again.\n",
      "24/02/20 18:30:35 WARN TaskMemoryManager: Failed to allocate a page (2097136 bytes), try again.\n",
      "24/02/20 18:30:45 WARN TaskMemoryManager: Failed to allocate a page (2097136 bytes), try again.\n",
      "24/02/20 18:30:45 WARN TaskMemoryManager: Failed to allocate a page (2097136 bytes), try again.\n",
      "24/02/20 18:30:45 WARN TaskMemoryManager: Failed to allocate a page (2097136 bytes), try again.\n",
      "24/02/20 18:30:45 WARN TaskMemoryManager: Failed to allocate a page (2097136 bytes), try again.\n",
      "24/02/20 18:30:45 WARN TaskMemoryManager: Failed to allocate a page (2097136 bytes), try again.\n",
      "24/02/20 18:30:45 WARN TaskMemoryManager: Failed to allocate a page (2097136 bytes), try again.\n",
      "24/02/20 18:30:45 WARN TaskMemoryManager: Failed to allocate a page (2097136 bytes), try again.\n",
      "24/02/20 18:30:45 WARN TaskMemoryManager: Failed to allocate a page (2097136 bytes), try again.\n",
      "24/02/20 18:30:45 WARN NettyRpcEnv: Ignored message: HeartbeatResponse(false)\n",
      "24/02/20 18:30:38 WARN Executor: Issue communicating with driver in heartbeater\n",
      "org.apache.spark.rpc.RpcTimeoutException: Futures timed out after [10000 milliseconds]. This timeout is controlled by spark.executor.heartbeatInterval\n",
      "\tat org.apache.spark.rpc.RpcTimeout.org$apache$spark$rpc$RpcTimeout$$createRpcTimeoutException(RpcTimeout.scala:47)\n",
      "\tat org.apache.spark.rpc.RpcTimeout$$anonfun$addMessageIfTimeout$1.applyOrElse(RpcTimeout.scala:62)\n",
      "\tat org.apache.spark.rpc.RpcTimeout$$anonfun$addMessageIfTimeout$1.applyOrElse(RpcTimeout.scala:58)\n",
      "\tat scala.runtime.AbstractPartialFunction.apply(AbstractPartialFunction.scala:38)\n",
      "\tat org.apache.spark.rpc.RpcTimeout.awaitResult(RpcTimeout.scala:76)\n",
      "\tat org.apache.spark.rpc.RpcEndpointRef.askSync(RpcEndpointRef.scala:101)\n",
      "\tat org.apache.spark.executor.Executor.reportHeartBeat(Executor.scala:1219)\n",
      "\tat org.apache.spark.executor.Executor.$anonfun$heartbeater$1(Executor.scala:295)\n",
      "\tat scala.runtime.java8.JFunction0$mcV$sp.apply(JFunction0$mcV$sp.java:23)\n",
      "\tat org.apache.spark.util.Utils$.logUncaughtExceptions(Utils.scala:1928)\n",
      "\tat org.apache.spark.Heartbeater$$anon$1.run(Heartbeater.scala:46)\n",
      "\tat java.base/java.util.concurrent.Executors$RunnableAdapter.call(Executors.java:515)\n",
      "\tat java.base/java.util.concurrent.FutureTask.runAndReset(FutureTask.java:305)\n",
      "\tat java.base/java.util.concurrent.ScheduledThreadPoolExecutor$ScheduledFutureTask.run(ScheduledThreadPoolExecutor.java:305)\n",
      "\tat java.base/java.util.concurrent.ThreadPoolExecutor.runWorker(ThreadPoolExecutor.java:1130)\n",
      "\tat java.base/java.util.concurrent.ThreadPoolExecutor$Worker.run(ThreadPoolExecutor.java:630)\n",
      "\tat java.base/java.lang.Thread.run(Thread.java:831)\n",
      "Caused by: java.util.concurrent.TimeoutException: Futures timed out after [10000 milliseconds]\n",
      "\tat scala.concurrent.impl.Promise$DefaultPromise.ready(Promise.scala:259)\n",
      "\tat scala.concurrent.impl.Promise$DefaultPromise.result(Promise.scala:263)\n",
      "\tat org.apache.spark.util.SparkThreadUtils$.awaitResult(SparkThreadUtils.scala:48)\n",
      "\tat org.apache.spark.util.ThreadUtils$.awaitResult(ThreadUtils.scala:310)\n",
      "\tat org.apache.spark.rpc.RpcTimeout.awaitResult(RpcTimeout.scala:75)\n",
      "\t... 12 more\n",
      "24/02/20 18:30:52 WARN TaskMemoryManager: Failed to allocate a page (2097136 bytes), try again.\n",
      "24/02/20 18:30:52 WARN TaskMemoryManager: Failed to allocate a page (2097136 bytes), try again.\n",
      "24/02/20 18:30:52 WARN TaskMemoryManager: Failed to allocate a page (2097136 bytes), try again.\n",
      "24/02/20 18:30:52 WARN TaskMemoryManager: Failed to allocate a page (2097136 bytes), try again.\n",
      "24/02/20 18:30:52 WARN TaskMemoryManager: Failed to allocate a page (2097136 bytes), try again.\n",
      "24/02/20 18:30:52 WARN TaskMemoryManager: Failed to allocate a page (2097136 bytes), try again.\n",
      "24/02/20 18:30:52 WARN TaskMemoryManager: Failed to allocate a page (2097136 bytes), try again.\n",
      "24/02/20 18:30:59 WARN TaskMemoryManager: Failed to allocate a page (2097136 bytes), try again.\n",
      "24/02/20 18:30:59 WARN TaskMemoryManager: Failed to allocate a page (2097136 bytes), try again.\n",
      "24/02/20 18:30:59 WARN TaskMemoryManager: Failed to allocate a page (2097136 bytes), try again.\n",
      "24/02/20 18:30:59 WARN TaskMemoryManager: Failed to allocate a page (2097136 bytes), try again.\n",
      "24/02/20 18:30:59 WARN TaskMemoryManager: Failed to allocate a page (2097136 bytes), try again.\n",
      "24/02/20 18:30:59 WARN TaskMemoryManager: Failed to allocate a page (2097136 bytes), try again.\n",
      "24/02/20 18:31:05 WARN TaskMemoryManager: Failed to allocate a page (2097136 bytes), try again.\n",
      "24/02/20 18:31:05 WARN TaskMemoryManager: Failed to allocate a page (2097136 bytes), try again.\n",
      "24/02/20 18:31:05 WARN TaskMemoryManager: Failed to allocate a page (2097136 bytes), try again.\n",
      "24/02/20 18:31:05 WARN TaskMemoryManager: Failed to allocate a page (2097136 bytes), try again.\n",
      "24/02/20 18:31:11 WARN TaskMemoryManager: Failed to allocate a page (2097136 bytes), try again.\n",
      "24/02/20 18:31:20 WARN TaskMemoryManager: Failed to allocate a page (2097136 bytes), try again.\n",
      "24/02/20 18:31:20 WARN TaskMemoryManager: Failed to allocate a page (2097136 bytes), try again.\n",
      "24/02/20 18:31:34 WARN TaskMemoryManager: Failed to allocate a page (2097136 bytes), try again.\n",
      "24/02/20 18:31:34 WARN TaskMemoryManager: Failed to allocate a page (749349 bytes), try again.\n",
      "24/02/20 18:31:52 WARN TaskMemoryManager: Failed to allocate a page (749349 bytes), try again.\n",
      "24/02/20 18:31:53 ERROR Utils: Uncaught exception in thread stdout writer for python3\n",
      "java.lang.OutOfMemoryError: Java heap space\n",
      "Exception in thread \"stdout writer for python3\" java.lang.OutOfMemoryError: Java heap space\n",
      "ERROR:root:KeyboardInterrupt while sending command.\n",
      "Traceback (most recent call last):\n",
      "  File \"/Users/dheeraj/miniconda3/envs/dsan5400/lib/python3.10/site-packages/py4j/java_gateway.py\", line 1038, in send_command\n",
      "    response = connection.send_command(command)\n",
      "  File \"/Users/dheeraj/miniconda3/envs/dsan5400/lib/python3.10/site-packages/py4j/clientserver.py\", line 511, in send_command\n",
      "    answer = smart_decode(self.stream.readline()[:-1])\n",
      "  File \"/Users/dheeraj/miniconda3/envs/dsan5400/lib/python3.10/socket.py\", line 705, in readinto\n",
      "    return self._sock.recv_into(b)\n",
      "KeyboardInterrupt\n"
     ]
    },
    {
     "ename": "KeyboardInterrupt",
     "evalue": "",
     "output_type": "error",
     "traceback": [
      "\u001b[0;31m---------------------------------------------------------------------------\u001b[0m",
      "\u001b[0;31mKeyboardInterrupt\u001b[0m                         Traceback (most recent call last)",
      "\u001b[1;32m/Users/dheeraj/DSAN/PPOL/pandas_udf/pandas_udf.ipynb Cell 10\u001b[0m line \u001b[0;36m8\n\u001b[1;32m      <a href='vscode-notebook-cell:/Users/dheeraj/DSAN/PPOL/pandas_udf/pandas_udf.ipynb#W6sZmlsZQ%3D%3D?line=4'>5</a>\u001b[0m     vs \u001b[39m=\u001b[39m vs \u001b[39m-\u001b[39m vs\u001b[39m.\u001b[39mmean()\n\u001b[1;32m      <a href='vscode-notebook-cell:/Users/dheeraj/DSAN/PPOL/pandas_udf/pandas_udf.ipynb#W6sZmlsZQ%3D%3D?line=5'>6</a>\u001b[0m     \u001b[39mreturn\u001b[39;00m [Row(\u001b[39mid\u001b[39m\u001b[39m=\u001b[39mrows[i][\u001b[39m'\u001b[39m\u001b[39mid\u001b[39m\u001b[39m'\u001b[39m], v\u001b[39m=\u001b[39m\u001b[39mfloat\u001b[39m(vs[i])) \u001b[39mfor\u001b[39;00m i \u001b[39min\u001b[39;00m \u001b[39mrange\u001b[39m(\u001b[39mlen\u001b[39m(rows))]\n\u001b[0;32m----> <a href='vscode-notebook-cell:/Users/dheeraj/DSAN/PPOL/pandas_udf/pandas_udf.ipynb#W6sZmlsZQ%3D%3D?line=7'>8</a>\u001b[0m get_ipython()\u001b[39m.\u001b[39;49mrun_line_magic(\u001b[39m'\u001b[39;49m\u001b[39mtimeit\u001b[39;49m\u001b[39m'\u001b[39;49m, \u001b[39m\"\u001b[39;49m\u001b[39mdf.groupby(\u001b[39;49m\u001b[39m'\u001b[39;49m\u001b[39mid\u001b[39;49m\u001b[39m'\u001b[39;49m\u001b[39m).agg(collect_list(struct(df[\u001b[39;49m\u001b[39m'\u001b[39;49m\u001b[39mid\u001b[39;49m\u001b[39m'\u001b[39;49m\u001b[39m], df[\u001b[39;49m\u001b[39m'\u001b[39;49m\u001b[39mv\u001b[39;49m\u001b[39m'\u001b[39;49m\u001b[39m])).alias(\u001b[39;49m\u001b[39m'\u001b[39;49m\u001b[39mrows\u001b[39;49m\u001b[39m'\u001b[39;49m\u001b[39m)).withColumn(\u001b[39;49m\u001b[39m'\u001b[39;49m\u001b[39mnew_rows\u001b[39;49m\u001b[39m'\u001b[39;49m\u001b[39m, substract_mean(col(\u001b[39;49m\u001b[39m'\u001b[39;49m\u001b[39mrows\u001b[39;49m\u001b[39m'\u001b[39;49m\u001b[39m))).withColumn(\u001b[39;49m\u001b[39m'\u001b[39;49m\u001b[39mnew_row\u001b[39;49m\u001b[39m'\u001b[39;49m\u001b[39m, explode(col(\u001b[39;49m\u001b[39m'\u001b[39;49m\u001b[39mnew_rows\u001b[39;49m\u001b[39m'\u001b[39;49m\u001b[39m))).withColumn(\u001b[39;49m\u001b[39m'\u001b[39;49m\u001b[39mid\u001b[39;49m\u001b[39m'\u001b[39;49m\u001b[39m, col(\u001b[39;49m\u001b[39m'\u001b[39;49m\u001b[39mnew_row.id\u001b[39;49m\u001b[39m'\u001b[39;49m\u001b[39m)).withColumn(\u001b[39;49m\u001b[39m'\u001b[39;49m\u001b[39mv\u001b[39;49m\u001b[39m'\u001b[39;49m\u001b[39m, col(\u001b[39;49m\u001b[39m'\u001b[39;49m\u001b[39mnew_row.v\u001b[39;49m\u001b[39m'\u001b[39;49m\u001b[39m)).agg(count(col(\u001b[39;49m\u001b[39m'\u001b[39;49m\u001b[39mv\u001b[39;49m\u001b[39m'\u001b[39;49m\u001b[39m))).show()\u001b[39;49m\u001b[39m\"\u001b[39;49m)\n",
      "File \u001b[0;32m~/miniconda3/envs/dsan5400/lib/python3.10/site-packages/IPython/core/interactiveshell.py:2456\u001b[0m, in \u001b[0;36mInteractiveShell.run_line_magic\u001b[0;34m(self, magic_name, line, _stack_depth)\u001b[0m\n\u001b[1;32m   2454\u001b[0m     kwargs[\u001b[39m'\u001b[39m\u001b[39mlocal_ns\u001b[39m\u001b[39m'\u001b[39m] \u001b[39m=\u001b[39m \u001b[39mself\u001b[39m\u001b[39m.\u001b[39mget_local_scope(stack_depth)\n\u001b[1;32m   2455\u001b[0m \u001b[39mwith\u001b[39;00m \u001b[39mself\u001b[39m\u001b[39m.\u001b[39mbuiltin_trap:\n\u001b[0;32m-> 2456\u001b[0m     result \u001b[39m=\u001b[39m fn(\u001b[39m*\u001b[39;49margs, \u001b[39m*\u001b[39;49m\u001b[39m*\u001b[39;49mkwargs)\n\u001b[1;32m   2458\u001b[0m \u001b[39m# The code below prevents the output from being displayed\u001b[39;00m\n\u001b[1;32m   2459\u001b[0m \u001b[39m# when using magics with decorator @output_can_be_silenced\u001b[39;00m\n\u001b[1;32m   2460\u001b[0m \u001b[39m# when the last Python token in the expression is a ';'.\u001b[39;00m\n\u001b[1;32m   2461\u001b[0m \u001b[39mif\u001b[39;00m \u001b[39mgetattr\u001b[39m(fn, magic\u001b[39m.\u001b[39mMAGIC_OUTPUT_CAN_BE_SILENCED, \u001b[39mFalse\u001b[39;00m):\n",
      "File \u001b[0;32m~/miniconda3/envs/dsan5400/lib/python3.10/site-packages/IPython/core/magics/execution.py:1185\u001b[0m, in \u001b[0;36mExecutionMagics.timeit\u001b[0;34m(self, line, cell, local_ns)\u001b[0m\n\u001b[1;32m   1183\u001b[0m \u001b[39mfor\u001b[39;00m index \u001b[39min\u001b[39;00m \u001b[39mrange\u001b[39m(\u001b[39m0\u001b[39m, \u001b[39m10\u001b[39m):\n\u001b[1;32m   1184\u001b[0m     number \u001b[39m=\u001b[39m \u001b[39m10\u001b[39m \u001b[39m*\u001b[39m\u001b[39m*\u001b[39m index\n\u001b[0;32m-> 1185\u001b[0m     time_number \u001b[39m=\u001b[39m timer\u001b[39m.\u001b[39;49mtimeit(number)\n\u001b[1;32m   1186\u001b[0m     \u001b[39mif\u001b[39;00m time_number \u001b[39m>\u001b[39m\u001b[39m=\u001b[39m \u001b[39m0.2\u001b[39m:\n\u001b[1;32m   1187\u001b[0m         \u001b[39mbreak\u001b[39;00m\n",
      "File \u001b[0;32m~/miniconda3/envs/dsan5400/lib/python3.10/site-packages/IPython/core/magics/execution.py:173\u001b[0m, in \u001b[0;36mTimer.timeit\u001b[0;34m(self, number)\u001b[0m\n\u001b[1;32m    171\u001b[0m gc\u001b[39m.\u001b[39mdisable()\n\u001b[1;32m    172\u001b[0m \u001b[39mtry\u001b[39;00m:\n\u001b[0;32m--> 173\u001b[0m     timing \u001b[39m=\u001b[39m \u001b[39mself\u001b[39;49m\u001b[39m.\u001b[39;49minner(it, \u001b[39mself\u001b[39;49m\u001b[39m.\u001b[39;49mtimer)\n\u001b[1;32m    174\u001b[0m \u001b[39mfinally\u001b[39;00m:\n\u001b[1;32m    175\u001b[0m     \u001b[39mif\u001b[39;00m gcold:\n",
      "File \u001b[0;32m<magic-timeit>:1\u001b[0m, in \u001b[0;36minner\u001b[0;34m(_it, _timer)\u001b[0m\n",
      "File \u001b[0;32m~/miniconda3/envs/dsan5400/lib/python3.10/site-packages/pyspark/sql/dataframe.py:959\u001b[0m, in \u001b[0;36mDataFrame.show\u001b[0;34m(self, n, truncate, vertical)\u001b[0m\n\u001b[1;32m    953\u001b[0m     \u001b[39mraise\u001b[39;00m PySparkTypeError(\n\u001b[1;32m    954\u001b[0m         error_class\u001b[39m=\u001b[39m\u001b[39m\"\u001b[39m\u001b[39mNOT_BOOL\u001b[39m\u001b[39m\"\u001b[39m,\n\u001b[1;32m    955\u001b[0m         message_parameters\u001b[39m=\u001b[39m{\u001b[39m\"\u001b[39m\u001b[39marg_name\u001b[39m\u001b[39m\"\u001b[39m: \u001b[39m\"\u001b[39m\u001b[39mvertical\u001b[39m\u001b[39m\"\u001b[39m, \u001b[39m\"\u001b[39m\u001b[39marg_type\u001b[39m\u001b[39m\"\u001b[39m: \u001b[39mtype\u001b[39m(vertical)\u001b[39m.\u001b[39m\u001b[39m__name__\u001b[39m},\n\u001b[1;32m    956\u001b[0m     )\n\u001b[1;32m    958\u001b[0m \u001b[39mif\u001b[39;00m \u001b[39misinstance\u001b[39m(truncate, \u001b[39mbool\u001b[39m) \u001b[39mand\u001b[39;00m truncate:\n\u001b[0;32m--> 959\u001b[0m     \u001b[39mprint\u001b[39m(\u001b[39mself\u001b[39;49m\u001b[39m.\u001b[39;49m_jdf\u001b[39m.\u001b[39;49mshowString(n, \u001b[39m20\u001b[39;49m, vertical))\n\u001b[1;32m    960\u001b[0m \u001b[39melse\u001b[39;00m:\n\u001b[1;32m    961\u001b[0m     \u001b[39mtry\u001b[39;00m:\n",
      "File \u001b[0;32m~/miniconda3/envs/dsan5400/lib/python3.10/site-packages/py4j/java_gateway.py:1321\u001b[0m, in \u001b[0;36mJavaMember.__call__\u001b[0;34m(self, *args)\u001b[0m\n\u001b[1;32m   1314\u001b[0m args_command, temp_args \u001b[39m=\u001b[39m \u001b[39mself\u001b[39m\u001b[39m.\u001b[39m_build_args(\u001b[39m*\u001b[39margs)\n\u001b[1;32m   1316\u001b[0m command \u001b[39m=\u001b[39m proto\u001b[39m.\u001b[39mCALL_COMMAND_NAME \u001b[39m+\u001b[39m\\\n\u001b[1;32m   1317\u001b[0m     \u001b[39mself\u001b[39m\u001b[39m.\u001b[39mcommand_header \u001b[39m+\u001b[39m\\\n\u001b[1;32m   1318\u001b[0m     args_command \u001b[39m+\u001b[39m\\\n\u001b[1;32m   1319\u001b[0m     proto\u001b[39m.\u001b[39mEND_COMMAND_PART\n\u001b[0;32m-> 1321\u001b[0m answer \u001b[39m=\u001b[39m \u001b[39mself\u001b[39;49m\u001b[39m.\u001b[39;49mgateway_client\u001b[39m.\u001b[39;49msend_command(command)\n\u001b[1;32m   1322\u001b[0m return_value \u001b[39m=\u001b[39m get_return_value(\n\u001b[1;32m   1323\u001b[0m     answer, \u001b[39mself\u001b[39m\u001b[39m.\u001b[39mgateway_client, \u001b[39mself\u001b[39m\u001b[39m.\u001b[39mtarget_id, \u001b[39mself\u001b[39m\u001b[39m.\u001b[39mname)\n\u001b[1;32m   1325\u001b[0m \u001b[39mfor\u001b[39;00m temp_arg \u001b[39min\u001b[39;00m temp_args:\n",
      "File \u001b[0;32m~/miniconda3/envs/dsan5400/lib/python3.10/site-packages/py4j/java_gateway.py:1038\u001b[0m, in \u001b[0;36mGatewayClient.send_command\u001b[0;34m(self, command, retry, binary)\u001b[0m\n\u001b[1;32m   1036\u001b[0m connection \u001b[39m=\u001b[39m \u001b[39mself\u001b[39m\u001b[39m.\u001b[39m_get_connection()\n\u001b[1;32m   1037\u001b[0m \u001b[39mtry\u001b[39;00m:\n\u001b[0;32m-> 1038\u001b[0m     response \u001b[39m=\u001b[39m connection\u001b[39m.\u001b[39;49msend_command(command)\n\u001b[1;32m   1039\u001b[0m     \u001b[39mif\u001b[39;00m binary:\n\u001b[1;32m   1040\u001b[0m         \u001b[39mreturn\u001b[39;00m response, \u001b[39mself\u001b[39m\u001b[39m.\u001b[39m_create_connection_guard(connection)\n",
      "File \u001b[0;32m~/miniconda3/envs/dsan5400/lib/python3.10/site-packages/py4j/clientserver.py:511\u001b[0m, in \u001b[0;36mClientServerConnection.send_command\u001b[0;34m(self, command)\u001b[0m\n\u001b[1;32m    509\u001b[0m \u001b[39mtry\u001b[39;00m:\n\u001b[1;32m    510\u001b[0m     \u001b[39mwhile\u001b[39;00m \u001b[39mTrue\u001b[39;00m:\n\u001b[0;32m--> 511\u001b[0m         answer \u001b[39m=\u001b[39m smart_decode(\u001b[39mself\u001b[39;49m\u001b[39m.\u001b[39;49mstream\u001b[39m.\u001b[39;49mreadline()[:\u001b[39m-\u001b[39m\u001b[39m1\u001b[39m])\n\u001b[1;32m    512\u001b[0m         logger\u001b[39m.\u001b[39mdebug(\u001b[39m\"\u001b[39m\u001b[39mAnswer received: \u001b[39m\u001b[39m{0}\u001b[39;00m\u001b[39m\"\u001b[39m\u001b[39m.\u001b[39mformat(answer))\n\u001b[1;32m    513\u001b[0m         \u001b[39m# Happens when a the other end is dead. There might be an empty\u001b[39;00m\n\u001b[1;32m    514\u001b[0m         \u001b[39m# answer before the socket raises an error.\u001b[39;00m\n",
      "File \u001b[0;32m~/miniconda3/envs/dsan5400/lib/python3.10/socket.py:705\u001b[0m, in \u001b[0;36mSocketIO.readinto\u001b[0;34m(self, b)\u001b[0m\n\u001b[1;32m    703\u001b[0m \u001b[39mwhile\u001b[39;00m \u001b[39mTrue\u001b[39;00m:\n\u001b[1;32m    704\u001b[0m     \u001b[39mtry\u001b[39;00m:\n\u001b[0;32m--> 705\u001b[0m         \u001b[39mreturn\u001b[39;00m \u001b[39mself\u001b[39;49m\u001b[39m.\u001b[39;49m_sock\u001b[39m.\u001b[39;49mrecv_into(b)\n\u001b[1;32m    706\u001b[0m     \u001b[39mexcept\u001b[39;00m timeout:\n\u001b[1;32m    707\u001b[0m         \u001b[39mself\u001b[39m\u001b[39m.\u001b[39m_timeout_occurred \u001b[39m=\u001b[39m \u001b[39mTrue\u001b[39;00m\n",
      "\u001b[0;31mKeyboardInterrupt\u001b[0m: "
     ]
    },
    {
     "name": "stderr",
     "output_type": "stream",
     "text": [
      "24/02/20 18:34:46 ERROR Utils: Uncaught exception in thread stdout writer for python3\n",
      "java.lang.OutOfMemoryError: Java heap space\n",
      "Exception in thread \"stdout writer for python3\" java.lang.OutOfMemoryError: Java heap space\n",
      "24/02/20 18:34:55 ERROR Utils: Uncaught exception in thread stdout writer for python3\n",
      "java.lang.OutOfMemoryError: Java heap space\n",
      "24/02/20 18:34:55 ERROR Utils: Uncaught exception in thread stdout writer for python3\n",
      "java.lang.OutOfMemoryError: Java heap space\n",
      "Exception in thread \"stdout writer for python3\" Exception in thread \"stdout writer for python3\" 24/02/20 18:34:55 ERROR Utils: Uncaught exception in thread stdout writer for python3\n",
      "java.lang.OutOfMemoryError: Java heap space\n",
      "Exception in thread \"stdout writer for python3\" 24/02/20 18:34:55 ERROR Utils: Uncaught exception in thread stdout writer for python3\n",
      "java.lang.OutOfMemoryError: Java heap space\n",
      "Exception in thread \"stdout writer for python3\" java.lang.OutOfMemoryError: Java heap space\n",
      "java.lang.OutOfMemoryError: Java heap space\n",
      "java.lang.OutOfMemoryError: Java heap space\n",
      "java.lang.OutOfMemoryError: Java heap space\n",
      "24/02/20 18:34:56 ERROR Utils: Uncaught exception in thread stdout writer for python3\n",
      "java.lang.OutOfMemoryError: Java heap space\n",
      "Exception in thread \"stdout writer for python3\" java.lang.OutOfMemoryError: Java heap space\n",
      "24/02/20 18:34:57 ERROR Utils: Uncaught exception in thread stdout writer for python3\n",
      "java.lang.OutOfMemoryError: Java heap space\n",
      "Exception in thread \"stdout writer for python3\" java.lang.OutOfMemoryError: Java heap space\n",
      "[Stage 103:>                                                        (0 + 8) / 9]\r"
     ]
    }
   ],
   "source": [
    "from pyspark.sql import Row\n",
    "@udf(ArrayType(df.schema))\n",
    "def substract_mean(rows):\n",
    "    vs = pd.Series([r.v for r in rows])\n",
    "    vs = vs - vs.mean()\n",
    "    return [Row(id=rows[i]['id'], v=float(vs[i])) for i in range(len(rows))]\n",
    "  \n",
    "%timeit df.groupby('id').agg(collect_list(struct(df['id'], df['v'])).alias('rows')).withColumn('new_rows', substract_mean(col('rows'))).withColumn('new_row', explode(col('new_rows'))).withColumn('id', col('new_row.id')).withColumn('v', col('new_row.v')).agg(count(col('v'))).show()\n"
   ]
  },
  {
   "cell_type": "code",
   "execution_count": null,
   "metadata": {},
   "outputs": [],
   "source": [
    "def subtract_mean(pdf: pd.DataFrame) -> pd.DataFrame:\n",
    "    return pdf.assign(v=pdf.v - pdf.v.mean())\n",
    "%timeit df.groupby('id').applyInPandas(subtract_mean, schema=df.schema).agg(count(col('v'))).show()"
   ]
  },
  {
   "cell_type": "code",
   "execution_count": null,
   "metadata": {},
   "outputs": [],
   "source": [
    "df2 = df.withColumn('y', rand()).withColumn('x1', rand()).withColumn('x2', rand()).select('id', 'y', 'x1', 'x2')\n",
    "df2.show()                                                               "
   ]
  },
  {
   "cell_type": "code",
   "execution_count": null,
   "metadata": {},
   "outputs": [],
   "source": [
    "import statsmodels.api as sm\n",
    "# df has four columns: id, y, x1, x2\n",
    "group_column = 'id'\n",
    "y_column = 'y'\n",
    "x_columns = ['x1', 'x2']\n",
    "schema = df2.select(group_column, *x_columns).schema\n",
    "# Input/output are both a pandas.DataFrame\n",
    "def ols(pdf: pd.DataFrame) -> pd.DataFrame:\n",
    "    group_key = pdf[group_column].iloc[0]\n",
    "    y = pdf[y_column]\n",
    "    X = pdf[x_columns]\n",
    "    X = sm.add_constant(X)\n",
    "    model = sm.OLS(y, X).fit()\n",
    "    return pd.DataFrame([[group_key] + [model.params[i] for i in   x_columns]], columns=[group_column] + x_columns)\n",
    "beta = df2.groupby(group_column).applyInPandas(ols, schema=schema)\n",
    "beta.show()\n"
   ]
  }
 ],
 "metadata": {
  "kernelspec": {
   "display_name": "dsan5400",
   "language": "python",
   "name": "python3"
  },
  "language_info": {
   "codemirror_mode": {
    "name": "ipython",
    "version": 3
   },
   "file_extension": ".py",
   "mimetype": "text/x-python",
   "name": "python",
   "nbconvert_exporter": "python",
   "pygments_lexer": "ipython3",
   "version": "3.10.13"
  },
  "orig_nbformat": 4
 },
 "nbformat": 4,
 "nbformat_minor": 2
}
